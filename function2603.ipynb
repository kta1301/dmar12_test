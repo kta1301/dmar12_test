{
 "cells": [
  {
   "cell_type": "code",
   "execution_count": 88,
   "metadata": {},
   "outputs": [],
   "source": [
    "documents = [\n",
    "{'type': 'passport', 'number': '2207 876234', 'name': 'Василий Гупкин'},\n",
    "{'type': 'invoice', 'number': '11-2', 'name': 'Геннадий Покемонов'},\n",
    "{'type': 'insurance', 'number': '10006', 'name': 'Аристарх Павлов'}\n",
    "]\n",
    "directories = {\n",
    "'1': ['2207 876234', '11-2'],\n",
    "'2': ['10006'],\n",
    "'3': []\n",
    "}"
   ]
  },
  {
   "cell_type": "code",
   "execution_count": 89,
   "metadata": {},
   "outputs": [],
   "source": [
    "def p_():                \n",
    "                d1 = input('Введите номер документа:')\n",
    "                for document in documents:\n",
    "                    found = False\n",
    "                    number_1 = document['number']\n",
    "                    name = document['name']\n",
    "                    if d1 == number_1:\n",
    "                        print(f'Владелец документа: {name}')\n",
    "                        found = True\n",
    "                        break\n",
    "                if not found:\n",
    "                    print('Владелец документа не найден')\n"
   ]
  },
  {
   "cell_type": "code",
   "execution_count": 90,
   "metadata": {},
   "outputs": [],
   "source": [
    "def s_():\n",
    "                docs_input = input('Введите номер документа:')\n",
    "                for k in directories:\n",
    "                    found = False\n",
    "                    if docs_input in directories[k]:\n",
    "                        print(f'Полка: {k}')\n",
    "                        found = True\n",
    "                        break\n",
    "                if not found:\n",
    "                    print('Документ не найден в базе')\n"
   ]
  },
  {
   "cell_type": "code",
   "execution_count": 91,
   "metadata": {},
   "outputs": [],
   "source": [
    "def j_():\n",
    "                for shelf in directories:\n",
    "                    for num in directories[shelf]:\n",
    "                        found = next(e for e in documents if e['number']==num)\n",
    "                        print(f'№: {num}, тип:{found[\"type\"]}, владелец:{found[\"name\"]}, полка хранения: {shelf}')\n"
   ]
  },
  {
   "cell_type": "code",
   "execution_count": 92,
   "metadata": {},
   "outputs": [],
   "source": [
    "def as_():  \n",
    "                a=dict.keys(directories)\n",
    "                dir_input = input('Введите номер полки:')\n",
    "                if dir_input in directories:\n",
    "                    print('Полка уже существует', 'Текущий перечень полок:', list(a))\n",
    "                else:\n",
    "                    directories[dir_input]=[]\n",
    "                    print('Полка добавлена', 'Текущий перечень полок:', list(a))\n"
   ]
  },
  {
   "cell_type": "code",
   "execution_count": 93,
   "metadata": {},
   "outputs": [],
   "source": [
    "def ds_():\n",
    "                a1=dict.keys(directories)\n",
    "                dir1_input = input('Введите номер полки:')\n",
    "                if dir1_input  in directories:\n",
    "                    if len(directories[dir1_input])>0:\n",
    "                        print('На полке содержатся документы, сначала удалите их', 'Текущий перечень полок:', list(a1))\n",
    "                    else:\n",
    "                        del(directories[dir1_input])\n",
    "                        print('Полка удалена', 'Текущий перечень полок:', list(a1))\n",
    "                else:\n",
    "                    print ('Такой полки не существует. Текущий перечень полок:',list(a1))\n"
   ]
  },
  {
   "cell_type": "code",
   "execution_count": 94,
   "metadata": {},
   "outputs": [
    {
     "name": "stdout",
     "output_type": "stream",
     "text": [
      "Введите команду:q\n",
      "Выход из программы\n"
     ]
    }
   ],
   "source": [
    "while True:\n",
    "        \n",
    "        \n",
    "        user_input = input('Введите команду:')\n",
    "        \n",
    "        \n",
    "        if user_input == 'p':\n",
    "            p_()\n",
    "        elif user_input=='s':\n",
    "            s_()\n",
    "        elif user_input=='j':\n",
    "            j_()\n",
    "        elif user_input=='as':\n",
    "            as_()\n",
    "        elif user_input=='ds':\n",
    "            ds_()\n",
    "        elif user_input == 'q':         \n",
    "                print('Выход из программы')\n",
    "                break\n",
    "        else:\n",
    "            print('Введена неверная команда')\n",
    "        "
   ]
  },
  {
   "cell_type": "code",
   "execution_count": null,
   "metadata": {},
   "outputs": [],
   "source": []
  }
 ],
 "metadata": {
  "kernelspec": {
   "display_name": "Python 3",
   "language": "python",
   "name": "python3"
  },
  "language_info": {
   "codemirror_mode": {
    "name": "ipython",
    "version": 3
   },
   "file_extension": ".py",
   "mimetype": "text/x-python",
   "name": "python",
   "nbconvert_exporter": "python",
   "pygments_lexer": "ipython3",
   "version": "3.8.5"
  }
 },
 "nbformat": 4,
 "nbformat_minor": 4
}
