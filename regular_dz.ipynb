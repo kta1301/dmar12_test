{
 "cells": [
  {
   "cell_type": "code",
   "execution_count": 4,
   "metadata": {
    "id": "8SDviw7xYA9R"
   },
   "outputs": [],
   "source": [
    "#Задание №1 \n",
    "import re"
   ]
  },
  {
   "cell_type": "code",
   "execution_count": 20,
   "metadata": {
    "colab": {
     "base_uri": "https://localhost:8080/"
    },
    "id": "REFTbLwxZ3Pa",
    "outputId": "5236f496-ae3e-4ac9-e9cb-b42bdb97c45a"
   },
   "outputs": [
    {
     "name": "stdout",
     "output_type": "stream",
     "text": [
      "Введите номер авто: АВ222С54\n",
      "Номер АВ222С54 валиден. Регион: 54\n"
     ]
    }
   ],
   "source": [
    "av_id = input('Введите номер авто: ')\n",
    "no_car(av_id)"
   ]
  },
  {
   "cell_type": "code",
   "execution_count": 19,
   "metadata": {
    "id": "RvOHaiEQaB5V"
   },
   "outputs": [],
   "source": [
    "def no_car(av_id):\n",
    "    result = re.findall(r'(^(?:[АВЕКМНОРСТУХ|A-Z]{2})\\d{3}[АВЕКМНОРСТУХ|A-Z](?:\\d{2}|\\d{3})$)',av_id)\n",
    "    result_search = re.search(r'((?:\\d{2}|\\d{3})$)',av_id)\n",
    "    if result:\n",
    "        print ('Номер', result[0], 'валиден. Регион:', result_search.group(0))\n",
    "    else:\n",
    "        print('Номер не валиден')\n",
    "        return\n",
    "\n",
    "    \n",
    "    "
   ]
  },
  {
   "cell_type": "code",
   "execution_count": 22,
   "metadata": {
    "colab": {
     "base_uri": "https://localhost:8080/"
    },
    "id": "k_cVUV9CvQGC",
    "outputId": "ef0ddee9-c33a-47c6-c3ab-ad1d2cc5a321"
   },
   "outputs": [
    {
     "name": "stdout",
     "output_type": "stream",
     "text": [
      "Напишите функцию которая будет удалять все последовательные повторы слов из заданной строки при помощи регулярных выражений\n"
     ]
    }
   ],
   "source": [
    "#Задание №2 \n",
    "some_string = \"Напишите функцию функцию, которая будет будет будет будет удалять все все все все последовательные повторы слов из из из из заданной строки строки при помощи регулярных выражений\"\n",
    "repeat_clear(some_string)"
   ]
  },
  {
   "cell_type": "code",
   "execution_count": 21,
   "metadata": {
    "id": "U-I-0CVvvH7d"
   },
   "outputs": [],
   "source": [
    "def repeat_clear(some_string):\n",
    "    print( re.sub(r'\\b([^\\W\\d_]+)(\\s+\\1)+\\b', r'\\1', re.sub(r'\\W+', ' ', some_string).strip(), flags=re.I) )\n"
   ]
  },
  {
   "cell_type": "code",
   "execution_count": 24,
   "metadata": {
    "colab": {
     "base_uri": "https://localhost:8080/"
    },
    "id": "LaeJg02EqXhx",
    "outputId": "c2d0b671-71bb-45ef-fe9b-78d74cb19832"
   },
   "outputs": [
    {
     "name": "stdout",
     "output_type": "stream",
     "text": [
      "Результат: NFC\n"
     ]
    }
   ],
   "source": [
    "#Задание №3\n",
    "some_words = \"Информационные технологии\"\n",
    "\n",
    "some_words_2 = \"Near Field Communication\"\n",
    "reduction(some_words_2)"
   ]
  },
  {
   "cell_type": "code",
   "execution_count": 23,
   "metadata": {
    "id": "Gslw72OApMEN"
   },
   "outputs": [],
   "source": [
    "def reduction(some_words_2):\n",
    "    text = re.findall(r'(\\w)\\w+', some_words_2)\n",
    "    tx = []\n",
    "    for i in text:\n",
    "        tx.append(i.capitalize())\n",
    "    return print('Результат:',''.join(tx))\n",
    "    "
   ]
  },
  {
   "cell_type": "code",
   "execution_count": 27,
   "metadata": {
    "id": "Q3cxlSRiumCt"
   },
   "outputs": [],
   "source": [
    "#Задание №4\n",
    "emails = ['test@gmail.com', 'kta@test.in', 'test@ya.ru', 'kta@mail.ru', 'xyz@ya.ru', 'xyz@gmail.com','tka@test.in']"
   ]
  },
  {
   "cell_type": "code",
   "execution_count": 29,
   "metadata": {
    "id": "G01chQSTGVEi"
   },
   "outputs": [],
   "source": [
    "from collections import Counter"
   ]
  },
  {
   "cell_type": "code",
   "execution_count": 32,
   "metadata": {
    "colab": {
     "base_uri": "https://localhost:8080/"
    },
    "id": "aKUmrAZkbkjt",
    "outputId": "bcb58a47-f9b9-4f32-ac57-cbae7b1ee832"
   },
   "outputs": [
    {
     "name": "stdout",
     "output_type": "stream",
     "text": [
      "@gmail.com : 2 @test.in : 2 @ya.ru : 2 @mail.ru : 1 "
     ]
    }
   ],
   "source": [
    "list_email(emails)"
   ]
  },
  {
   "cell_type": "code",
   "execution_count": 31,
   "metadata": {
    "id": "34fSEPpmVclJ"
   },
   "outputs": [],
   "source": [
    "def list_email(emails):\n",
    "    list_ = []\n",
    "    for x in emails:\n",
    "        x = re.findall(r'@\\w+\\.\\w+', x)\n",
    "        list_.append(','.join(x))\n",
    "    c = Counter(list_)\n",
    "    for k, v in c.items():\n",
    "        print(k, ':', v, end=\" \")"
   ]
  }
 ],
 "metadata": {
  "colab": {
   "authorship_tag": "ABX9TyOHCdeNGbI9WtkWnfvQeTl8",
   "collapsed_sections": [],
   "include_colab_link": true,
   "name": "RegexpProjectWorkFinal",
   "provenance": []
  },
  "kernelspec": {
   "display_name": "Python 3",
   "language": "python",
   "name": "python3"
  },
  "language_info": {
   "codemirror_mode": {
    "name": "ipython",
    "version": 3
   },
   "file_extension": ".py",
   "mimetype": "text/x-python",
   "name": "python",
   "nbconvert_exporter": "python",
   "pygments_lexer": "ipython3",
   "version": "3.8.5"
  }
 },
 "nbformat": 4,
 "nbformat_minor": 1
}
