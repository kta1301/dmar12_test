{
 "cells": [
  {
   "cell_type": "code",
   "execution_count": null,
   "metadata": {},
   "outputs": [],
   "source": [
    "#Задание №1\n",
    "world='confederation'\n",
    "\n",
    "if len(world) % 2 == 0:\n",
    "      print (world[(len(world)//2)-1:(len(world)//2)+1])\n",
    "else:\n",
    "    print(world[len(world)//2])\n",
    "    \n",
    "\n",
    "\n",
    "    "
   ]
  },
  {
   "cell_type": "code",
   "execution_count": 2,
   "metadata": {},
   "outputs": [
    {
     "name": "stdout",
     "output_type": "stream",
     "text": [
      "1\n",
      "2\n",
      "0\n",
      "3\n"
     ]
    }
   ],
   "source": [
    "#Задание №2\n",
    "count = 0\n",
    "n=int(input())\n",
    "while n!=0:\n",
    "     count+=n\n",
    "     n=int(input())\n",
    "print(count)\n"
   ]
  },
  {
   "cell_type": "code",
   "execution_count": 1,
   "metadata": {
    "scrolled": true
   },
   "outputs": [
    {
     "name": "stdout",
     "output_type": "stream",
     "text": [
      "Идеaльные пары [('Alex', 'Agness'), ('Anton', 'Anna'), ('Arnold', 'Eva'), ('Jack', 'Helen'), ('Jonh', 'Julia'), ('Michael', 'Kate'), ('Piter', 'Natali')]\n"
     ]
    }
   ],
   "source": [
    "#Задание №3\n",
    "boys=['Michael','Anton','Alex','Jack','Jonh','Piter','Arnold']\n",
    "girls=['Anna','Helen','Julia','Natali','Kate','Eva','Agness']\n",
    "boys.sort()\n",
    "girls.sort()\n",
    "if len(boys)!=len(girls):\n",
    "    print('Внимание, кто-то может остаться без пары')\n",
    "else:\n",
    "      boys_girls = zip(boys, girls)\n",
    "print('Идеaльные пары',list(boys_girls))\n"
   ]
  },
  {
   "cell_type": "code",
   "execution_count": 33,
   "metadata": {},
   "outputs": [
    {
     "name": "stdout",
     "output_type": "stream",
     "text": [
      "Thailand - 23.9 C\n",
      "Germany - 13.8 C\n",
      "Russia - 3.7 C\n",
      "Poland - 12.0 C\n"
     ]
    }
   ],
   "source": [
    "#Задание №4\n",
    "\n",
    "countries_temperature = [\n",
    "    ['Thailand', [75.2, 77, 78.8, 73.4, 68, 75.2, 77]],\n",
    "['Germany', [57.2, 55.4, 59, 59, 53.6]],\n",
    "['Russia', [35.6, 37.4, 39.2, 41, 42.8, 39.2, 35.6]],\n",
    "['Poland', [50, 50, 53.6, 57.2, 55.4, 55.4]]\n",
    "]\n",
    "for i in countries_temperature:\n",
    "    print(i[0], '-', round((sum(i[1]) / len(i[1]) - 32) / 1.8, 1), 'C')\n",
    "    "
   ]
  }
 ],
 "metadata": {
  "kernelspec": {
   "display_name": "Python 3",
   "language": "python",
   "name": "python3"
  },
  "language_info": {
   "codemirror_mode": {
    "name": "ipython",
    "version": 3
   },
   "file_extension": ".py",
   "mimetype": "text/x-python",
   "name": "python",
   "nbconvert_exporter": "python",
   "pygments_lexer": "ipython3",
   "version": "3.8.5"
  }
 },
 "nbformat": 4,
 "nbformat_minor": 4
}
