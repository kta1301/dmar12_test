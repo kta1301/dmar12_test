{
 "cells": [
  {
   "cell_type": "code",
   "execution_count": 19,
   "metadata": {},
   "outputs": [
    {
     "name": "stdout",
     "output_type": "stream",
     "text": [
      "Фраза 1 длиннее фразы 2\n"
     ]
    }
   ],
   "source": [
    "#Задание №1. Проверка длины строк\n",
    "phrase_1='Если бы я учила английский язык, то сейчас мне было бы гораздо легче'\n",
    "phrase_2='Но я этого не делала'\n",
    "if len (phrase_1) > len (phrase_2):\n",
    "    print('Фраза 1 длиннее фразы 2')\n",
    "if len (phrase_1) < len (phrase_2):\n",
    "    print('Фраза 2 длиннее фразы 1')\n",
    "if len (phrase_1) == len (phrase_2):\n",
    "    print('Фразы равной длины')\n",
    "    \n"
   ]
  },
  {
   "cell_type": "code",
   "execution_count": 23,
   "metadata": {},
   "outputs": [
    {
     "name": "stdout",
     "output_type": "stream",
     "text": [
      "Введите год  2023\n",
      "Введенный год обычный\n"
     ]
    }
   ],
   "source": [
    "#Задание №2. Високосный год\n",
    "year = int(input(\"Введите год  \"))\n",
    "if (year % 4 == 0 and year % 100 != 0) or (year % 400 == 0):\n",
    "    print('Введенный год високосный')\n",
    "else:\n",
    "    print('Введенный год обычный')\n"
   ]
  },
  {
   "cell_type": "code",
   "execution_count": 28,
   "metadata": {},
   "outputs": [
    {
     "name": "stdout",
     "output_type": "stream",
     "text": [
      "Введите день Вашего рождения  23\n",
      "Введите месяц Вашего рождения, порядковый номер - 1,2,3...12  8\n",
      "Знак зодиака:Дева\n"
     ]
    }
   ],
   "source": [
    "#Задание №3. Знаки зодиака\n",
    "date = int(input(\"Введите день Вашего рождения  \"))\n",
    "month = int(input(\"Введите месяц Вашего рождения, порядковый номер - 1,2,3...12  \"))\n",
    "if (date>=21 and date<=31 and month==3) or( month==4 and date>=1 and date<=19):\n",
    "\n",
    "    print(\"Знак зодиака:Овен\")\n",
    "\n",
    "elif (date>=20 and date<=30 and month==4) or( month==5 and date>=1 and date<=20):\n",
    "\n",
    "    print(\"Знак зодиака:Телец\")\n",
    "\n",
    "elif (date>=21 and date<=31 and month==5) or( month==6 and date>=1 and date<=21):\n",
    "\n",
    "    print(\"Знак зодиака:Близнецы\")\n",
    "\n",
    "elif (date>=22 and date<=30 and month==6) or( month==7 and date>=1 and date<=22):\n",
    "\n",
    "    print(\"Знак зодиака:Рак\")\n",
    "\n",
    "elif (date>=23 and date<=31 and month==7) or( month==8 and date>=1 and date<=22):\n",
    "\n",
    "    print(\"Знак зодиака:Лев\")\n",
    "\n",
    "elif (date>=23 and date<=31 and month==8) or( month==9 and date>=1 and date<=22):\n",
    "\n",
    "    print(\"Знак зодиака:Дева\")\n",
    "\n",
    "elif (date>=23 and date<=30 and month==9) or( month==10 and date>=1 and date<=23):\n",
    "\n",
    "    print(\"Знак зодиака:Весы\")\n",
    "\n",
    "elif (date>=24 and date<=31 and month==10) or( month==11 and date>=1 and date<=22):\n",
    "\n",
    "    print(\"Знак зодиака:Скорпион\")\n",
    "\n",
    "elif (date>=23 and date<=30 and month==11) or( month==12 and date>=1 and date<=21):\n",
    "\n",
    "    print(\"Знак зодиака:Стрелец\")\n",
    "\n",
    "elif (date>=22 and date<=31 and month==12) or( month==1 and date>=1 and date<=20):\n",
    "\n",
    "    print(\"Знак зодиака:Козерог\")\n",
    "\n",
    "elif (date>=21 and date<=31 and month==1) or( month==2 and date>=1 and date<=18):\n",
    "\n",
    "    print(\"Знак зодиака:Водолей\")\n",
    "\n",
    "elif (date>=19 and date<=29 and month==2) or( month==3 and date>=1 and date<=20):\n",
    "\n",
    "    print(\"Знак зодиака:Рыбы\")"
   ]
  },
  {
   "cell_type": "code",
   "execution_count": null,
   "metadata": {},
   "outputs": [],
   "source": [
    "#Задание №4. Подбор размера коробки.\n",
    "width = int(input(\"Введите ширину предмета  \"))\n",
    "length = int(input(\"Введите длину предмета  \"))\n",
    "height = int(input(\"Введите высоту предмета  \"))\n",
    "if (width<15 and length<15 and height<15):\n",
    "    print('Коробка №1')\n",
    "elif (15<width<50 and 15<length<50 and 15<height<50):\n",
    "    print('Коробка №2')\n",
    "elif (length>200): \n",
    "    print('Коробка для лыж')\n",
    "else:\n",
    "    print('Стандартная коробка №3')"
   ]
  },
  {
   "cell_type": "code",
   "execution_count": null,
   "metadata": {},
   "outputs": [],
   "source": []
  }
 ],
 "metadata": {
  "kernelspec": {
   "display_name": "Python 3",
   "language": "python",
   "name": "python3"
  },
  "language_info": {
   "codemirror_mode": {
    "name": "ipython",
    "version": 3
   },
   "file_extension": ".py",
   "mimetype": "text/x-python",
   "name": "python",
   "nbconvert_exporter": "python",
   "pygments_lexer": "ipython3",
   "version": "3.8.5"
  }
 },
 "nbformat": 4,
 "nbformat_minor": 4
}
