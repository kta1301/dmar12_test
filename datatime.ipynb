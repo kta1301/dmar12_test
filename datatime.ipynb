{
 "cells": [
  {
   "cell_type": "code",
   "execution_count": 1,
   "metadata": {
    "ExecuteTime": {
     "end_time": "2021-03-23T03:39:47.164108Z",
     "start_time": "2021-03-23T03:39:47.154107Z"
    }
   },
   "outputs": [],
   "source": [
    "#Задание №1. "
   ]
  },
  {
   "cell_type": "code",
   "execution_count": 68,
   "metadata": {},
   "outputs": [],
   "source": [
    "from datetime import datetime"
   ]
  },
  {
   "cell_type": "code",
   "execution_count": 35,
   "metadata": {
    "ExecuteTime": {
     "end_time": "2021-03-21T06:30:46.467115Z",
     "start_time": "2021-03-21T06:30:46.448114Z"
    }
   },
   "outputs": [],
   "source": [
    "moscow_times = 'Wednesday, October 2, 2002'\n",
    "The_Guardian = 'Friday, 11.10.13'\n",
    "Daily_News = 'Thursday, 18 August 1977'"
   ]
  },
  {
   "cell_type": "code",
   "execution_count": 36,
   "metadata": {
    "ExecuteTime": {
     "end_time": "2021-03-21T06:27:30.056285Z",
     "start_time": "2021-03-21T06:27:30.027283Z"
    }
   },
   "outputs": [
    {
     "name": "stdout",
     "output_type": "stream",
     "text": [
      "2002-10-02 00:00:00\n"
     ]
    }
   ],
   "source": [
    "moscow_times_d= datetime.strptime(moscow_times, '%A, %B %d, %Y')\n",
    "print(moscow_times_d)"
   ]
  },
  {
   "cell_type": "code",
   "execution_count": 37,
   "metadata": {
    "ExecuteTime": {
     "end_time": "2021-03-21T06:27:32.725438Z",
     "start_time": "2021-03-21T06:27:32.696436Z"
    }
   },
   "outputs": [
    {
     "name": "stdout",
     "output_type": "stream",
     "text": [
      "2013-10-11 00:00:00\n"
     ]
    }
   ],
   "source": [
    "The_Guardian_dt = datetime.strptime(The_Guardian, '%A, %d.%m.%y')\n",
    "print(The_Guardian_dt)"
   ]
  },
  {
   "cell_type": "code",
   "execution_count": 38,
   "metadata": {
    "ExecuteTime": {
     "end_time": "2021-03-21T06:27:37.611717Z",
     "start_time": "2021-03-21T06:27:37.582716Z"
    }
   },
   "outputs": [
    {
     "name": "stdout",
     "output_type": "stream",
     "text": [
      "1977-08-18 00:00:00\n"
     ]
    }
   ],
   "source": [
    "Daily_News_dt = datetime.strptime(Daily_News, '%A, %d %B %Y')\n",
    "print(Daily_News_dt)"
   ]
  },
  {
   "cell_type": "code",
   "execution_count": null,
   "metadata": {},
   "outputs": [],
   "source": [
    "#Задание №2"
   ]
  },
  {
   "cell_type": "code",
   "execution_count": 101,
   "metadata": {
    "ExecuteTime": {
     "end_time": "2021-03-21T06:36:14.504877Z",
     "start_time": "2021-03-21T06:36:14.493877Z"
    }
   },
   "outputs": [],
   "source": [
    "stream = ['2018-04-02', '2018-02-29', '2018-19-02', '2023-o1-11']"
   ]
  },
  {
   "cell_type": "code",
   "execution_count": 102,
   "metadata": {},
   "outputs": [
    {
     "name": "stdout",
     "output_type": "stream",
     "text": [
      "\"2018-04-02\"True\n",
      "\"2018-02-29\"False\n",
      "\"2018-19-02\"False\n",
      "\"2023-o1-11\"False\n"
     ]
    }
   ],
   "source": [
    "def stream_date(st_date):\n",
    "    try:\n",
    "        datetime.strptime(st_date, '%Y-%m-%d')\n",
    "        return print('\"{}\"{}'.format(st_date, True))\n",
    "    except ValueError:\n",
    "        return print('\"{}\"{}'.format(st_date, False))\n",
    "\n",
    "for dt in stream:\n",
    "    stream_date(dt)"
   ]
  },
  {
   "cell_type": "code",
   "execution_count": 104,
   "metadata": {
    "ExecuteTime": {
     "end_time": "2021-03-23T03:48:31.178915Z",
     "start_time": "2021-03-23T03:47:58.318036Z"
    }
   },
   "outputs": [
    {
     "name": "stdout",
     "output_type": "stream",
     "text": [
      "Введите начальную дату в виде YYYY-MM-DD09-09-09\n",
      "Введите конечную дату в виде YYYY-MM-DD000\n",
      "[]\n"
     ]
    }
   ],
   "source": [
    "#Задание №3\n",
    "start_date = input('Введите начальную дату в виде YYYY-MM-DD ')\n",
    "end_date = input('Введите конечную дату в виде YYYY-MM-DD ')\n",
    "\n",
    "date_range(start_date, end_date)"
   ]
  },
  {
   "cell_type": "code",
   "execution_count": 87,
   "metadata": {
    "ExecuteTime": {
     "end_time": "2021-03-23T03:52:39.235103Z",
     "start_time": "2021-03-23T03:52:39.215102Z"
    }
   },
   "outputs": [],
   "source": [
    "def date_range(start_date, end_date):   \n",
    "    dat = []\n",
    "    try:\n",
    "        start_date = datetime.strptime(start_date, '%Y-%m-%d')\n",
    "        end_date = datetime.strptime(end_date, '%Y-%m-%d')\n",
    "        start_date < end_date\n",
    "        razn = end_date - start_date\n",
    "        for d in range(razn.days + 1):\n",
    "            date_ = start_date + timedelta(d)\n",
    "            dat.append(date_.strftime('%Y-%m-%d'))\n",
    "        return print(dat)\n",
    "    except:                 \n",
    "        print(dat)\n",
    "            "
   ]
  }
 ],
 "metadata": {
  "kernelspec": {
   "display_name": "Python 3",
   "language": "python",
   "name": "python3"
  },
  "language_info": {
   "codemirror_mode": {
    "name": "ipython",
    "version": 3
   },
   "file_extension": ".py",
   "mimetype": "text/x-python",
   "name": "python",
   "nbconvert_exporter": "python",
   "pygments_lexer": "ipython3",
   "version": "3.8.5"
  },
  "varInspector": {
   "cols": {
    "lenName": 16,
    "lenType": 16,
    "lenVar": 40
   },
   "kernels_config": {
    "python": {
     "delete_cmd_postfix": "",
     "delete_cmd_prefix": "del ",
     "library": "var_list.py",
     "varRefreshCmd": "print(var_dic_list())"
    },
    "r": {
     "delete_cmd_postfix": ") ",
     "delete_cmd_prefix": "rm(",
     "library": "var_list.r",
     "varRefreshCmd": "cat(var_dic_list()) "
    }
   },
   "types_to_exclude": [
    "module",
    "function",
    "builtin_function_or_method",
    "instance",
    "_Feature"
   ],
   "window_display": false
  }
 },
 "nbformat": 4,
 "nbformat_minor": 4
}
