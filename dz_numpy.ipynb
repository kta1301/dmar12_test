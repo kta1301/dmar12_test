{
 "cells": [
  {
   "cell_type": "markdown",
   "metadata": {
    "colab_type": "text",
    "id": "view-in-github"
   },
   "source": [
    "<a href=\"https://colab.research.google.com/github/AndreyV80/NetStudy/blob/main/NumPyProjectWork.ipynb\" target=\"_parent\"><img src=\"https://colab.research.google.com/assets/colab-badge.svg\" alt=\"Open In Colab\"/></a>"
   ]
  },
  {
   "cell_type": "code",
   "execution_count": 1,
   "metadata": {
    "id": "SfkOQ7G_Z8Iy"
   },
   "outputs": [],
   "source": [
    "#Задание №1"
   ]
  },
  {
   "cell_type": "code",
   "execution_count": 19,
   "metadata": {},
   "outputs": [],
   "source": [
    "import numpy as np"
   ]
  },
  {
   "cell_type": "code",
   "execution_count": 20,
   "metadata": {
    "colab": {
     "base_uri": "https://localhost:8080/"
    },
    "id": "H1E19QVCafPI",
    "outputId": "8dca1903-e39b-4a2a-df80-bc51f9ab2a00"
   },
   "outputs": [
    {
     "data": {
      "text/plain": [
       "array([9, 8, 7, 6, 5, 4, 3, 2, 1, 0])"
      ]
     },
     "execution_count": 20,
     "metadata": {},
     "output_type": "execute_result"
    }
   ],
   "source": [
    "n = 10\n",
    "x = np.arange(n)\n",
    "x[::-1]    "
   ]
  },
  {
   "cell_type": "code",
   "execution_count": 21,
   "metadata": {
    "colab": {
     "base_uri": "https://localhost:8080/"
    },
    "id": "0QEEpisfZphV",
    "outputId": "6b1aa85c-d29b-4a53-b1a2-d3765e641eb4"
   },
   "outputs": [
    {
     "data": {
      "text/plain": [
       "array([[9, 0, 0, 0, 0, 0, 0, 0, 0, 0],\n",
       "       [0, 8, 0, 0, 0, 0, 0, 0, 0, 0],\n",
       "       [0, 0, 7, 0, 0, 0, 0, 0, 0, 0],\n",
       "       [0, 0, 0, 6, 0, 0, 0, 0, 0, 0],\n",
       "       [0, 0, 0, 0, 5, 0, 0, 0, 0, 0],\n",
       "       [0, 0, 0, 0, 0, 4, 0, 0, 0, 0],\n",
       "       [0, 0, 0, 0, 0, 0, 3, 0, 0, 0],\n",
       "       [0, 0, 0, 0, 0, 0, 0, 2, 0, 0],\n",
       "       [0, 0, 0, 0, 0, 0, 0, 0, 1, 0],\n",
       "       [0, 0, 0, 0, 0, 0, 0, 0, 0, 0]])"
      ]
     },
     "execution_count": 21,
     "metadata": {},
     "output_type": "execute_result"
    }
   ],
   "source": [
    "#Задание №2\n",
    "n = 10\n",
    "x = np.arange(n)\n",
    "dg_x = np.diag(x[::-1], k=0)\n",
    "dg_x \n",
    "   "
   ]
  },
  {
   "cell_type": "code",
   "execution_count": 22,
   "metadata": {
    "colab": {
     "base_uri": "https://localhost:8080/"
    },
    "id": "YgDQKcz9Xoy1",
    "outputId": "d6422257-afbb-4b16-e096-75d76b307530"
   },
   "outputs": [
    {
     "name": "stdout",
     "output_type": "stream",
     "text": [
      "45\n"
     ]
    }
   ],
   "source": [
    "#Сумма значений матрицы по диагонали\n",
    "sum_dg_x = 0               \n",
    "for i in range(n):\n",
    "    sum_dg_x += dg_x[i][i]\n",
    "print(sum_dg_x)\n",
    "   "
   ]
  },
  {
   "cell_type": "markdown",
   "metadata": {
    "id": "MT1dkNRAaC1J"
   },
   "source": [
    "**Задание 3**\n",
    "Решите систему уравнений:\n",
    "4x + 2y + z = 4; \n",
    "x + 3y = 12; \n",
    "5y + 4z = -3."
   ]
  },
  {
   "cell_type": "code",
   "execution_count": 23,
   "metadata": {
    "id": "xuucFcP-c8Lb"
   },
   "outputs": [],
   "source": [
    "#Задание №3\n",
    "from numpy import linalg"
   ]
  },
  {
   "cell_type": "code",
   "execution_count": 24,
   "metadata": {
    "id": "h3v6P-WYaGjU"
   },
   "outputs": [],
   "source": [
    "a1 = np.array([[4, 2, 1], [1, 3, 0], [0, 5, 4]])\n",
    "b1 = np.array([4, 12, -3])"
   ]
  },
  {
   "cell_type": "code",
   "execution_count": 25,
   "metadata": {
    "colab": {
     "base_uri": "https://localhost:8080/"
    },
    "id": "y9cnQxoJc5mE",
    "outputId": "db8a57ec-0d55-4fc1-9155-acf39236e6ca"
   },
   "outputs": [
    {
     "data": {
      "text/plain": [
       "array([ 0.46666667,  3.84444444, -5.55555556])"
      ]
     },
     "execution_count": 25,
     "metadata": {},
     "output_type": "execute_result"
    }
   ],
   "source": [
    "linalg.solve(a1, b1)"
   ]
  },
  {
   "cell_type": "code",
   "execution_count": 26,
   "metadata": {
    "colab": {
     "base_uri": "https://localhost:8080/"
    },
    "id": "JHJAMXcHc_nK",
    "outputId": "3b8f95d5-eb99-40fa-ea71-887b48f12c70"
   },
   "outputs": [
    {
     "data": {
      "text/plain": [
       "True"
      ]
     },
     "execution_count": 26,
     "metadata": {},
     "output_type": "execute_result"
    }
   ],
   "source": [
    "np.allclose( np.dot(a1, linalg.solve(a1, b1)), b1 )"
   ]
  },
  {
   "cell_type": "code",
   "execution_count": 37,
   "metadata": {
    "id": "zhUe--i5aiVR"
   },
   "outputs": [],
   "source": [
    "#Задание №4\n",
    "\n",
    "\n",
    "users_stats = np.array(\n",
    "    [\n",
    "        [2, 1, 0, 0, 0, 0],\n",
    "        [1, 1, 2, 1, 0, 0],\n",
    "        [2, 0, 1, 0, 0, 0],\n",
    "        [1, 1, 2, 1, 0, 1],\n",
    "        [0, 0, 1, 2, 0, 0],\n",
    "        [0, 0, 0, 0, 0, 5],\n",
    "        [1, 0, 0, 0, 0, 0],\n",
    "        [0, 1, 1, 0, 0, 0],\n",
    "        [0, 0, 0, 1, 1, 3],\n",
    "        [1, 0, 0, 2, 1, 4]\n",
    "    ], \n",
    "    np.int32\n",
    ")"
   ]
  },
  {
   "cell_type": "code",
   "execution_count": 38,
   "metadata": {
    "id": "6dxgRJsXargf"
   },
   "outputs": [],
   "source": [
    "next_user_stats = np.array([0, 1, 2, 0, 0, 0])"
   ]
  },
  {
   "cell_type": "code",
   "execution_count": 39,
   "metadata": {
    "colab": {
     "base_uri": "https://localhost:8080/"
    },
    "id": "hRZra9g_lCas",
    "outputId": "1d0d0518-0866-41f2-b04f-9d42e0476eaa"
   },
   "outputs": [
    {
     "name": "stdout",
     "output_type": "stream",
     "text": [
      "ID -  8 ; Value -  0.9486832980505138\n"
     ]
    }
   ],
   "source": [
    "ty = {}\n",
    "id = 0\n",
    "for i in users_stats:   \n",
    "    aLength = np.sqrt( (i*i).sum() )\n",
    "    bLength = np.sqrt( (next_user_stats*next_user_stats).sum() )\n",
    "    np.dot( i, next_user_stats ) / ( aLength * bLength ) \n",
    "    id += 1\n",
    "    ty[id] = np.dot( i, next_user_stats ) / ( aLength * bLength )\n",
    "for k_, v in ty.items():\n",
    "     if v == max(ty.values()):\n",
    "         print('ID - ', k_,';', 'Value - ', v)"
   ]
  },
  {
   "cell_type": "code",
   "execution_count": null,
   "metadata": {},
   "outputs": [],
   "source": []
  }
 ],
 "metadata": {
  "colab": {
   "authorship_tag": "ABX9TyP0SpAFuVKw2nOviX5PguGU",
   "collapsed_sections": [],
   "include_colab_link": true,
   "name": "NumPyProjectWork",
   "provenance": []
  },
  "kernelspec": {
   "display_name": "Python 3",
   "language": "python",
   "name": "python3"
  },
  "language_info": {
   "codemirror_mode": {
    "name": "ipython",
    "version": 3
   },
   "file_extension": ".py",
   "mimetype": "text/x-python",
   "name": "python",
   "nbconvert_exporter": "python",
   "pygments_lexer": "ipython3",
   "version": "3.8.5"
  }
 },
 "nbformat": 4,
 "nbformat_minor": 1
}
